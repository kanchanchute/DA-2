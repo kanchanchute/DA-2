{
 "cells": [
  {
   "cell_type": "markdown",
   "id": "00ab0489-6d33-4e73-8a91-1c91271bbaef",
   "metadata": {},
   "source": [
    "# Append\n",
    "\n",
    "* Python list append() method is used to add elements at the end of the list."
   ]
  },
  {
   "cell_type": "code",
   "execution_count": 6,
   "id": "d7d9dbed-0c59-443e-94c4-5e597da138db",
   "metadata": {},
   "outputs": [
    {
     "name": "stdout",
     "output_type": "stream",
     "text": [
      "['banana', 'kiwi', 'apple', 'mango', 'orange']\n"
     ]
    }
   ],
   "source": [
    "fruits = [\"banana\", \"kiwi\", \"apple\", \"mango\"]\n",
    "fruits.append(\"orange\")\n",
    "print(fruits)\n"
   ]
  },
  {
   "cell_type": "code",
   "execution_count": 7,
   "id": "c506c3ba-d35a-408a-85cd-443f499c1517",
   "metadata": {},
   "outputs": [
    {
     "name": "stdout",
     "output_type": "stream",
     "text": [
      "['sofa', 'chair', 'bed', 'table']\n"
     ]
    }
   ],
   "source": [
    "furniture = [\"sofa\", \"chair\", \"bed\"]\n",
    "furniture.append(\"table\")\n",
    "print(furniture)"
   ]
  },
  {
   "cell_type": "markdown",
   "id": "2f32b922-f3c2-4f5f-a2cd-4e318f831298",
   "metadata": {},
   "source": [
    "# Count\n",
    "\n",
    "  * Python List count() method returns the count of the occurrences of a given element in a list."
   ]
  },
  {
   "cell_type": "code",
   "execution_count": 20,
   "id": "6869fa24-67ea-4e52-bdcd-5c4b339971f9",
   "metadata": {},
   "outputs": [
    {
     "name": "stdout",
     "output_type": "stream",
     "text": [
      "2\n"
     ]
    }
   ],
   "source": [
    "perfume = [\"bellavita\", \"la'french\", \"wildstone\", \"renee\", \"wildstone\"]\n",
    "print(perfume.count(\"wildstone\"))"
   ]
  },
  {
   "cell_type": "code",
   "execution_count": 15,
   "id": "b5d3cacc-29b6-4869-bc6f-f8771a4177b3",
   "metadata": {},
   "outputs": [
    {
     "name": "stdout",
     "output_type": "stream",
     "text": [
      "1\n"
     ]
    }
   ],
   "source": [
    "brand = [\"Adidas\", \"Zara\", \"Puma\", \"Nike\", \"Prada\"]\n",
    "print(brand.count(\"Nike\"))"
   ]
  },
  {
   "cell_type": "markdown",
   "id": "d52a7426-9372-4464-825a-4feb841cbd30",
   "metadata": {},
   "source": [
    "# Clear\n",
    "\n",
    " * Python List clear() method removes all items from the List making it an empty/null list."
   ]
  },
  {
   "cell_type": "code",
   "execution_count": 21,
   "id": "92a86811-4102-4501-8206-eafa5333e8a4",
   "metadata": {},
   "outputs": [
    {
     "name": "stdout",
     "output_type": "stream",
     "text": [
      "[]\n"
     ]
    }
   ],
   "source": [
    "numbers = [1,2,3,4,5]\n",
    "numbers.clear()\n",
    "print(numbers)"
   ]
  },
  {
   "cell_type": "markdown",
   "id": "b967fda6-39ae-4b26-96d6-bd09c605776e",
   "metadata": {},
   "source": [
    " # Extend\n",
    "\n",
    "* Python List extend() method adds items of an iterable (list, tuple, dictionary, etc) at the end of a list."
   ]
  },
  {
   "cell_type": "code",
   "execution_count": 23,
   "id": "a2b15026-a7b3-4847-a196-f9a1ff409958",
   "metadata": {},
   "outputs": [
    {
     "name": "stdout",
     "output_type": "stream",
     "text": [
      "['Audi', 'BMW', 'Jaguar', 'Maruti', 'Tata']\n"
     ]
    }
   ],
   "source": [
    "cars = [\"Audi\",\"BMW\",\"Jaguar\"]\n",
    "cars.extend([\"Maruti\", \"Tata\"])\n",
    "print(cars)"
   ]
  },
  {
   "cell_type": "code",
   "execution_count": 24,
   "id": "582345ad-1a8d-4c7f-8296-253e27c361a7",
   "metadata": {},
   "outputs": [
    {
     "name": "stdout",
     "output_type": "stream",
     "text": [
      "[1, 2, 3, 4, 5, 6]\n"
     ]
    }
   ],
   "source": [
    "l = [1, 2, 3]\n",
    "l.extend([4, 5, 6])\n",
    "print(l)"
   ]
  },
  {
   "cell_type": "markdown",
   "id": "ba758f3d-1f26-451a-8cb7-e9e69c13ef88",
   "metadata": {},
   "source": [
    "# Index\n",
    "\n",
    " * List index() method searches for a given element from the start of the list and returns the position of the first occurrence."
   ]
  },
  {
   "cell_type": "code",
   "execution_count": 26,
   "id": "bc846905-6dde-4b9c-b119-c458b2838a6d",
   "metadata": {},
   "outputs": [
    {
     "name": "stdout",
     "output_type": "stream",
     "text": [
      "3\n"
     ]
    }
   ],
   "source": [
    "Animals= [\"cat\", \"dog\", \"tiger\", \"lion\", \"camal\"] \n",
    "print(Animals.index(\"lion\"))"
   ]
  },
  {
   "cell_type": "code",
   "execution_count": 28,
   "id": "3f7fac7f-9437-478a-bf12-7078e4564885",
   "metadata": {},
   "outputs": [
    {
     "name": "stdout",
     "output_type": "stream",
     "text": [
      "4\n"
     ]
    }
   ],
   "source": [
    "Gadgets = [\"mouse\", \"Laptop\", \"printer\", \"camera\", \"webcam\", \"Headphone\"]\n",
    "print(Gadgets.index(\"webcam\"))"
   ]
  },
  {
   "cell_type": "markdown",
   "id": "0e7fc903-835e-48be-861b-3da04ad7f11d",
   "metadata": {},
   "source": [
    "# Insert\n",
    "\n",
    "* Python List insert() method inserts an item at a specific index in a list."
   ]
  },
  {
   "cell_type": "code",
   "execution_count": 29,
   "id": "9fc53b62-452e-4017-8e22-87f6fc35e66b",
   "metadata": {},
   "outputs": [
    {
     "name": "stdout",
     "output_type": "stream",
     "text": [
      "['Mojito', 'Beer', 'Vodka', 'Sangria', 'Champagne', 'Soda', 'Wine', 'Magarita', 'Rum']\n"
     ]
    }
   ],
   "source": [
    "Drink = [\"Mojito\",\"Beer\",\"Vodka\", \"Sangria\", \"Soda\", \"Wine\", \"Magarita\", \"Rum\"] \n",
    "Drink.insert(4,\"Champagne\") \n",
    "print(Drink)"
   ]
  },
  {
   "cell_type": "code",
   "execution_count": 30,
   "id": "44b1a09e-7930-4f24-82e3-dbca13424dba",
   "metadata": {},
   "outputs": [
    {
     "name": "stdout",
     "output_type": "stream",
     "text": [
      "[43, 45, 94, 99, 76, 88, 45]\n"
     ]
    }
   ],
   "source": [
    "score = [43,45,99,76, 88, 45] \n",
    "score.insert(2, 94) \n",
    "print(score)"
   ]
  },
  {
   "cell_type": "markdown",
   "id": "b0089f47-b830-49da-8388-76df518e5fe7",
   "metadata": {},
   "source": [
    "# POP\n",
    "\n",
    "* Python list pop() function removes elements at a specific index from the list."
   ]
  },
  {
   "cell_type": "code",
   "execution_count": 31,
   "id": "ce0de75c-4419-4e8c-b007-812ff5c54fe8",
   "metadata": {},
   "outputs": [
    {
     "name": "stdout",
     "output_type": "stream",
     "text": [
      "4 [1, 2, 3, 5, 6]\n"
     ]
    }
   ],
   "source": [
    "my_list = [1, 2, 3, 4, 5, 6] \n",
    "print(my_list.pop(3), my_list)"
   ]
  },
  {
   "cell_type": "code",
   "execution_count": 32,
   "id": "2d48603b-150b-4ed5-8489-9cfdf9ef7bf5",
   "metadata": {},
   "outputs": [
    {
     "name": "stdout",
     "output_type": "stream",
     "text": [
      "['apple', 'banana', 'cherry']\n"
     ]
    }
   ],
   "source": [
    "fruits = [\"apple\",\"banana\",\"cherry\",\"carrot\"] \n",
    "fruits.pop()  \n",
    "print(fruits)"
   ]
  },
  {
   "cell_type": "markdown",
   "id": "29613c36-6f7f-4d1a-aec0-e62b75ca2f50",
   "metadata": {},
   "source": [
    "# Remove\n",
    "\n",
    "* Python list remove() method removes a given element from the list."
   ]
  },
  {
   "cell_type": "code",
   "execution_count": 33,
   "id": "4d884b2a-6e08-4a55-b396-d35b20ec0939",
   "metadata": {},
   "outputs": [
    {
     "name": "stdout",
     "output_type": "stream",
     "text": [
      "[12, 49, 86, 87, 885, 63, 24, 66]\n"
     ]
    }
   ],
   "source": [
    "a = [12,23,49,86,87,885,63,24,66]\n",
    "a.remove(23)\n",
    "print(a)"
   ]
  },
  {
   "cell_type": "code",
   "execution_count": 34,
   "id": "fdb6c2fa-ec49-48ec-989d-7eff29a186e2",
   "metadata": {},
   "outputs": [
    {
     "name": "stdout",
     "output_type": "stream",
     "text": [
      "['b', 'c', 'd']\n"
     ]
    }
   ],
   "source": [
    "list2 = [ 'a', 'b', 'c', 'd' ] \n",
    "list2.remove('a') \n",
    "print(list2)"
   ]
  },
  {
   "cell_type": "markdown",
   "id": "70bf0bc0-5ba1-41a9-92e6-467bc7695214",
   "metadata": {},
   "source": [
    "# Reverse\n",
    "\n",
    "* Python List reverse() is an inbuilt method in the Python programming language that reverses objects of the List in place."
   ]
  },
  {
   "cell_type": "code",
   "execution_count": 36,
   "id": "38e123e2-f41f-4d59-8a3a-27e6c392b583",
   "metadata": {},
   "outputs": [
    {
     "name": "stdout",
     "output_type": "stream",
     "text": [
      "[6, 2, 1, 4, 3, 2, 1]\n"
     ]
    }
   ],
   "source": [
    "abc = [1, 2, 3, 4, 1, 2, 6] \n",
    "abc.reverse() \n",
    "print(abc) "
   ]
  },
  {
   "cell_type": "markdown",
   "id": "993b0966-ba27-4c58-88b4-364b9ffac2fe",
   "metadata": {},
   "source": [
    "# Sort\n",
    "\n",
    "  * Python list sort() method sorts the elements of a list. It sorts in ascending order by default but can also sort values in descending order or in a custom manner using its parameters."
   ]
  },
  {
   "cell_type": "code",
   "execution_count": 37,
   "id": "e474bae8-ec87-4ccd-ab4a-5b6182ab5570",
   "metadata": {},
   "outputs": [
    {
     "name": "stdout",
     "output_type": "stream",
     "text": [
      "['a', 'b', 'c', 'd', 'e']\n"
     ]
    }
   ],
   "source": [
    "alphabets = ['a','e','d','c','b'] \n",
    "alphabets.sort() \n",
    "print(alphabets) "
   ]
  },
  {
   "cell_type": "code",
   "execution_count": 38,
   "id": "429d1a00-18ab-451f-8b7c-11c052157bc5",
   "metadata": {},
   "outputs": [
    {
     "name": "stdout",
     "output_type": "stream",
     "text": [
      "['kalyani', 'kanchan', 'nirja', 'payal']\n"
     ]
    }
   ],
   "source": [
    "Name = [\"kanchan\", \"payal\", \"kalyani\", \"nirja\"] \n",
    "Name.sort() \n",
    "print(Name)"
   ]
  },
  {
   "cell_type": "markdown",
   "id": "2c294a9b-546c-4c72-a2f8-2db57142526b",
   "metadata": {},
   "source": [
    "# Ascending Order"
   ]
  },
  {
   "cell_type": "code",
   "execution_count": 41,
   "id": "4859fe03-ba7f-42be-b7b3-7541af03c49b",
   "metadata": {},
   "outputs": [
    {
     "name": "stdout",
     "output_type": "stream",
     "text": [
      "['jasmine', 'lily', 'lotous', 'rose', 'sunflower', 'tulip']\n"
     ]
    }
   ],
   "source": [
    "flower = [\"rose\", \"lily\", \"lotous\", \"sunflower\", \"jasmine\", \"tulip\"] \n",
    "flower.sort() \n",
    "print(flower)"
   ]
  },
  {
   "cell_type": "markdown",
   "id": "43e1a056-2f97-45de-b989-741e7b7e99d5",
   "metadata": {},
   "source": [
    "# Descending Order "
   ]
  },
  {
   "cell_type": "code",
   "execution_count": 40,
   "id": "114f6e16-d3d9-40ef-93d3-8776f840508f",
   "metadata": {},
   "outputs": [
    {
     "name": "stdout",
     "output_type": "stream",
     "text": [
      "[8, 6, 5, 4, 3, 2, 1]\n"
     ]
    }
   ],
   "source": [
    "no = [1, 3, 4, 2, 6, 8, 5] \n",
    "no.sort(reverse=True) \n",
    "print(no)"
   ]
  },
  {
   "cell_type": "markdown",
   "id": "19acb9f7-c059-4896-aa7a-ebbb29d25c36",
   "metadata": {},
   "source": [
    "# Min\n",
    "\n",
    "* Python min() function returns the smallest of the values or the smallest item in an iterable passed as its parameter."
   ]
  },
  {
   "cell_type": "code",
   "execution_count": 1,
   "id": "4337f890-8ab5-427f-85be-c12c1887ef3c",
   "metadata": {},
   "outputs": [
    {
     "name": "stdout",
     "output_type": "stream",
     "text": [
      "21\n"
     ]
    }
   ],
   "source": [
    "numbers = [23,25,65,21,98]\n",
    "print(min(numbers))"
   ]
  },
  {
   "cell_type": "markdown",
   "id": "09100ad5-be0f-4371-b828-eb879cf53876",
   "metadata": {},
   "source": [
    "# Max\n",
    "\n",
    "* Python max() function returns the largest item in an iterable or the largest of two or more arguments."
   ]
  },
  {
   "cell_type": "code",
   "execution_count": 4,
   "id": "6c5d19d5-f94d-451a-a661-defbacaac8c2",
   "metadata": {},
   "outputs": [
    {
     "name": "stdout",
     "output_type": "stream",
     "text": [
      "8\n"
     ]
    }
   ],
   "source": [
    "var1 = 4\n",
    "var2 = 8\n",
    "var3 = 2\n",
    " \n",
    "max_val = max(var1, var2, var3)\n",
    "print(max_val)"
   ]
  },
  {
   "cell_type": "code",
   "execution_count": null,
   "id": "1cadab26-acd8-4918-8ed3-28306d3477cc",
   "metadata": {},
   "outputs": [],
   "source": []
  }
 ],
 "metadata": {
  "kernelspec": {
   "display_name": "Python 3 (ipykernel)",
   "language": "python",
   "name": "python3"
  },
  "language_info": {
   "codemirror_mode": {
    "name": "ipython",
    "version": 3
   },
   "file_extension": ".py",
   "mimetype": "text/x-python",
   "name": "python",
   "nbconvert_exporter": "python",
   "pygments_lexer": "ipython3",
   "version": "3.11.7"
  }
 },
 "nbformat": 4,
 "nbformat_minor": 5
}

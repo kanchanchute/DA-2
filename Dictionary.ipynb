{
 "cells": [
  {
   "cell_type": "markdown",
   "id": "32b49d76-d6ba-4f88-af65-fa9763b5292d",
   "metadata": {},
   "source": [
    "# Dictionary"
   ]
  },
  {
   "cell_type": "code",
   "execution_count": 3,
   "id": "3331de13-7159-43d8-ab42-eb4fc41becaa",
   "metadata": {},
   "outputs": [
    {
     "data": {
      "text/plain": [
       "{'name': 'kanchan', 'surname': 'chute', 'age': '22', 'city': 'Nagpur'}"
      ]
     },
     "execution_count": 3,
     "metadata": {},
     "output_type": "execute_result"
    }
   ],
   "source": [
    "dict = {'name':'kanchan', 'surname':'chute', 'age':'22', 'city':'Nagpur'}\n",
    "dict"
   ]
  },
  {
   "cell_type": "markdown",
   "id": "1c68023f-9112-4a9c-94f1-e2a822d1559d",
   "metadata": {},
   "source": [
    "# Clear\n",
    "\n",
    "  * Remove all elements from the car list:"
   ]
  },
  {
   "cell_type": "code",
   "execution_count": 9,
   "id": "f6d1bba2-bc1c-470e-b595-a6996fb6114c",
   "metadata": {},
   "outputs": [
    {
     "data": {
      "text/plain": [
       "{'brand': 'Ford', 'model': 'Mustang', 'year': 1964}"
      ]
     },
     "execution_count": 9,
     "metadata": {},
     "output_type": "execute_result"
    }
   ],
   "source": [
    "car = {\"brand\": \"Ford\",\"model\": \"Mustang\",\"year\": 1964}\n",
    "\n",
    "car\n"
   ]
  },
  {
   "cell_type": "code",
   "execution_count": 10,
   "id": "1a4186f7-724f-4551-ae3e-c2a22c524724",
   "metadata": {},
   "outputs": [
    {
     "name": "stdout",
     "output_type": "stream",
     "text": [
      "{}\n"
     ]
    }
   ],
   "source": [
    "\n",
    "car.clear()\n",
    "\n",
    "print(car)"
   ]
  },
  {
   "cell_type": "markdown",
   "id": "435d9448-5237-4472-9951-08e7e04f4c7f",
   "metadata": {},
   "source": [
    "# Copy"
   ]
  },
  {
   "cell_type": "code",
   "execution_count": 11,
   "id": "d17f7c4a-b4b8-42fd-8557-8ef6ee294ffd",
   "metadata": {},
   "outputs": [
    {
     "name": "stdout",
     "output_type": "stream",
     "text": [
      "{'brand': 'Ford', 'model': 'Mustang', 'year': 1964}\n"
     ]
    }
   ],
   "source": [
    "car = {\"brand\": \"Ford\",\"model\": \"Mustang\",\"year\": 1964}\n",
    "\n",
    "x = car.copy()\n",
    "\n",
    "print(x)"
   ]
  },
  {
   "cell_type": "markdown",
   "id": "6a63ffe9-e799-49d3-8eab-792d9b8754e1",
   "metadata": {},
   "source": [
    "# Fromkeys()\n",
    "\n",
    "  * this function create a new dictionary with keys from seq values set to the value."
   ]
  },
  {
   "cell_type": "code",
   "execution_count": 14,
   "id": "a8da6ac5-b3f0-4384-ad57-9f0becbe193b",
   "metadata": {},
   "outputs": [
    {
     "name": "stdout",
     "output_type": "stream",
     "text": [
      "{'key1': 0, 'key2': 0, 'key3': 0}\n"
     ]
    }
   ],
   "source": [
    "x = ('key1', 'key2', 'key3')\n",
    "y = 0\n",
    "\n",
    "dict = dict.fromkeys(x, y)\n",
    "\n",
    "print(dict)"
   ]
  },
  {
   "cell_type": "code",
   "execution_count": 15,
   "id": "a2a0d0b0-a323-4c65-8896-fa83c152a2fa",
   "metadata": {},
   "outputs": [
    {
     "name": "stdout",
     "output_type": "stream",
     "text": [
      "{'age': {'22'}}\n"
     ]
    }
   ],
   "source": [
    "dict1={'age'}\n",
    "dict2={'22'}\n",
    "new_dict = dict.fromkeys(dict1,dict2)\n",
    "print(new_dict)"
   ]
  },
  {
   "cell_type": "markdown",
   "id": "f584de23-b07b-4314-a942-b4bfd13e4b2e",
   "metadata": {},
   "source": [
    "# Get"
   ]
  },
  {
   "cell_type": "code",
   "execution_count": 16,
   "id": "7d3123fb-da1c-46d6-aa8b-68a6a34a3bc7",
   "metadata": {},
   "outputs": [
    {
     "data": {
      "text/plain": [
       "{'name': 'kanchan', 'surname': 'chute', 'age': '22', 'city': 'Nagpur'}"
      ]
     },
     "execution_count": 16,
     "metadata": {},
     "output_type": "execute_result"
    }
   ],
   "source": [
    "dict = {'name':'kanchan', 'surname':'chute', 'age':'22', 'city':'Nagpur'}\n",
    "dict"
   ]
  },
  {
   "cell_type": "code",
   "execution_count": 17,
   "id": "dd4fd65b-499b-4ad8-9ad8-dc0c8f86109b",
   "metadata": {},
   "outputs": [
    {
     "data": {
      "text/plain": [
       "'22'"
      ]
     },
     "execution_count": 17,
     "metadata": {},
     "output_type": "execute_result"
    }
   ],
   "source": [
    "dict.get('age')"
   ]
  },
  {
   "cell_type": "markdown",
   "id": "f6e8c8b6-16f0-456a-a76a-c98b6175f48f",
   "metadata": {},
   "source": [
    "# Items()"
   ]
  },
  {
   "cell_type": "code",
   "execution_count": 18,
   "id": "35952d87-94e7-4971-ae5d-168435acf1d3",
   "metadata": {},
   "outputs": [
    {
     "name": "stdout",
     "output_type": "stream",
     "text": [
      "dict_items([('brand', 'Ford'), ('model', 'Mustang'), ('year', 1964)])\n"
     ]
    }
   ],
   "source": [
    "car = {\n",
    "  \"brand\": \"Ford\",\n",
    "  \"model\": \"Mustang\",\n",
    "  \"year\": 1964\n",
    "}\n",
    "\n",
    "x = car.items()\n",
    "\n",
    "print(x)"
   ]
  },
  {
   "cell_type": "markdown",
   "id": "fb981f59-d672-4833-a982-2ec22d9e97c2",
   "metadata": {},
   "source": [
    "# Keys"
   ]
  },
  {
   "cell_type": "code",
   "execution_count": 19,
   "id": "527f3be0-b862-43f3-ab8f-6397269ea589",
   "metadata": {},
   "outputs": [
    {
     "data": {
      "text/plain": [
       "{'name': 'kanchan', 'surname': 'chute', 'age': '22', 'city': 'Nagpur'}"
      ]
     },
     "execution_count": 19,
     "metadata": {},
     "output_type": "execute_result"
    }
   ],
   "source": [
    "dict = {'name':'kanchan', 'surname':'chute', 'age':'22', 'city':'Nagpur'}\n",
    "dict"
   ]
  },
  {
   "cell_type": "code",
   "execution_count": 20,
   "id": "1d509bae-8a34-40c2-892a-e4d89d240369",
   "metadata": {},
   "outputs": [
    {
     "data": {
      "text/plain": [
       "dict_keys(['name', 'surname', 'age', 'city'])"
      ]
     },
     "execution_count": 20,
     "metadata": {},
     "output_type": "execute_result"
    }
   ],
   "source": [
    "dict.keys()"
   ]
  },
  {
   "cell_type": "markdown",
   "id": "8117f68a-d20d-48df-a251-7a039aebdf4d",
   "metadata": {},
   "source": [
    "# PoP()\n",
    "\n",
    "  * The pop() method removes the specified item from the dictionary.\r",
    "  * \r\n",
    "The value of the removed item is the return value of the pop() method"
   ]
  },
  {
   "cell_type": "code",
   "execution_count": 21,
   "id": "03e3126e-2fed-4580-94a4-2c5038cccedf",
   "metadata": {},
   "outputs": [
    {
     "data": {
      "text/plain": [
       "{'name': 'kanchan', 'surname': 'chute', 'age': '22', 'city': 'Nagpur'}"
      ]
     },
     "execution_count": 21,
     "metadata": {},
     "output_type": "execute_result"
    }
   ],
   "source": [
    "dict = {'name':'kanchan', 'surname':'chute', 'age':'22', 'city':'Nagpur'}\n",
    "dict"
   ]
  },
  {
   "cell_type": "code",
   "execution_count": 22,
   "id": "83718ab2-bdd8-42de-a6a5-ce95a284ecb3",
   "metadata": {},
   "outputs": [
    {
     "data": {
      "text/plain": [
       "'Nagpur'"
      ]
     },
     "execution_count": 22,
     "metadata": {},
     "output_type": "execute_result"
    }
   ],
   "source": [
    "dict.pop('city')"
   ]
  },
  {
   "cell_type": "markdown",
   "id": "34122840-6c83-4afd-8ea8-554cd89c8396",
   "metadata": {},
   "source": [
    "# Popitem()\n",
    "\n",
    "  * The popitem() method removes the item that was last inserted into the dictionary. In versions before 3.7, the popitem() method removes a random item.\n",
    "  * The removed item is the return value of the popitem()"
   ]
  },
  {
   "cell_type": "code",
   "execution_count": 23,
   "id": "f1437833-a5be-416a-bad1-24e6fd0b02af",
   "metadata": {},
   "outputs": [
    {
     "data": {
      "text/plain": [
       "('city', 'Nagpur')"
      ]
     },
     "execution_count": 23,
     "metadata": {},
     "output_type": "execute_result"
    }
   ],
   "source": [
    "dict = {'name':'kanchan', 'surname':'chute', 'age':'22', 'city':'Nagpur'}\n",
    "item = dict.popitem()\n",
    "item"
   ]
  },
  {
   "cell_type": "code",
   "execution_count": 24,
   "id": "244c5630-5ddb-442e-b646-70a6133370cd",
   "metadata": {},
   "outputs": [
    {
     "data": {
      "text/plain": [
       "{'name': 'kanchan', 'surname': 'chute', 'age': '22'}"
      ]
     },
     "execution_count": 24,
     "metadata": {},
     "output_type": "execute_result"
    }
   ],
   "source": [
    "dict"
   ]
  },
  {
   "cell_type": "markdown",
   "id": "b6e954c0-012b-4f5a-b712-71c4c87f466a",
   "metadata": {},
   "source": [
    "# Setdefault\n",
    "\n",
    "  * The setdefault() method returns the value of the item with the specified key.\n",
    "  * If the key does not exist, insert the key, with the specified value"
   ]
  },
  {
   "cell_type": "code",
   "execution_count": 25,
   "id": "3fb2c435-202d-41aa-b53b-f5452d91ccdc",
   "metadata": {},
   "outputs": [
    {
     "data": {
      "text/plain": [
       "{'name': 'kanchan', 'surname': 'chute', 'age': '22'}"
      ]
     },
     "execution_count": 25,
     "metadata": {},
     "output_type": "execute_result"
    }
   ],
   "source": [
    "dict"
   ]
  },
  {
   "cell_type": "code",
   "execution_count": 27,
   "id": "bb9e1d20-b4ee-4774-a133-26919056b4fa",
   "metadata": {},
   "outputs": [
    {
     "data": {
      "text/plain": [
       "'India'"
      ]
     },
     "execution_count": 27,
     "metadata": {},
     "output_type": "execute_result"
    }
   ],
   "source": [
    "value =dict.setdefault('country','India')\n",
    "value"
   ]
  },
  {
   "cell_type": "code",
   "execution_count": 28,
   "id": "6040e557-bfc3-4eea-bb83-b85398af9380",
   "metadata": {},
   "outputs": [
    {
     "data": {
      "text/plain": [
       "{'name': 'kanchan',\n",
       " 'surname': 'chute',\n",
       " 'age': '22',\n",
       " 'count': 'aus',\n",
       " 'country': 'India'}"
      ]
     },
     "execution_count": 28,
     "metadata": {},
     "output_type": "execute_result"
    }
   ],
   "source": [
    "dict"
   ]
  },
  {
   "cell_type": "markdown",
   "id": "9cefd252-a651-41e2-bf06-b2f46f2c1a81",
   "metadata": {},
   "source": [
    "# Dictionary\n",
    "\n",
    "  * The update() method inserts the specified items to the dictionary.\n",
    "  * The specified items can be a dictionary, or an iterable object with key value pairs.\n",
    "\n"
   ]
  },
  {
   "cell_type": "code",
   "execution_count": 1,
   "id": "f6bb169e-e88c-49f6-ab90-973adf4d9859",
   "metadata": {},
   "outputs": [
    {
     "data": {
      "text/plain": [
       "{'name': 'kanchan', 'surname': 'chute', 'age': '22', 'city': 'Nagpur'}"
      ]
     },
     "execution_count": 1,
     "metadata": {},
     "output_type": "execute_result"
    }
   ],
   "source": [
    "dict = {'name':'kanchan', 'surname':'chute', 'age':'22', 'city':'Nagpur'}\n",
    "dict"
   ]
  },
  {
   "cell_type": "code",
   "execution_count": 4,
   "id": "ee239bae-cde8-4be8-ac1b-e528090fcd2d",
   "metadata": {},
   "outputs": [
    {
     "data": {
      "text/plain": [
       "{'name': 'kanchan',\n",
       " 'surname': 'chute',\n",
       " 'age': '22',\n",
       " 'city': 'Nagpur',\n",
       " 'country': 'India'}"
      ]
     },
     "execution_count": 4,
     "metadata": {},
     "output_type": "execute_result"
    }
   ],
   "source": [
    "dict.update({'country':'India'})\n",
    "dict"
   ]
  },
  {
   "cell_type": "markdown",
   "id": "de15129a-b7d7-4903-9667-26d71b9a7277",
   "metadata": {},
   "source": [
    "# Values()\n",
    "\n",
    "  * The values() method returns a view object. The view object contains the values of the dictionary, as a list.\n",
    "  * The view object will reflect any changes done to the dictionary"
   ]
  },
  {
   "cell_type": "code",
   "execution_count": 5,
   "id": "ae110010-98bd-4a8e-b160-cb504b3af117",
   "metadata": {},
   "outputs": [
    {
     "data": {
      "text/plain": [
       "{'name': 'kanchan',\n",
       " 'surname': 'chute',\n",
       " 'age': '22',\n",
       " 'city': 'Nagpur',\n",
       " 'country': 'India'}"
      ]
     },
     "execution_count": 5,
     "metadata": {},
     "output_type": "execute_result"
    }
   ],
   "source": [
    "dict"
   ]
  },
  {
   "cell_type": "code",
   "execution_count": 6,
   "id": "2cdf684c-6836-4be4-9ee1-ce50eb9b13c1",
   "metadata": {},
   "outputs": [
    {
     "data": {
      "text/plain": [
       "dict_values(['kanchan', 'chute', '22', 'Nagpur', 'India'])"
      ]
     },
     "execution_count": 6,
     "metadata": {},
     "output_type": "execute_result"
    }
   ],
   "source": [
    "dict.values()"
   ]
  },
  {
   "cell_type": "code",
   "execution_count": null,
   "id": "289fb52c-bbcf-41c2-942a-e73d23585ae0",
   "metadata": {},
   "outputs": [],
   "source": []
  }
 ],
 "metadata": {
  "kernelspec": {
   "display_name": "Python 3 (ipykernel)",
   "language": "python",
   "name": "python3"
  },
  "language_info": {
   "codemirror_mode": {
    "name": "ipython",
    "version": 3
   },
   "file_extension": ".py",
   "mimetype": "text/x-python",
   "name": "python",
   "nbconvert_exporter": "python",
   "pygments_lexer": "ipython3",
   "version": "3.11.7"
  }
 },
 "nbformat": 4,
 "nbformat_minor": 5
}

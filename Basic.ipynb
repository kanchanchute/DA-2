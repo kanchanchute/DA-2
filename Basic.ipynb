{
 "cells": [
  {
   "cell_type": "markdown",
   "id": "c98272e1-5ccd-4d7e-b3e0-f44ea9b9068d",
   "metadata": {},
   "source": [
    "# Logical Operator"
   ]
  },
  {
   "cell_type": "code",
   "execution_count": 1,
   "id": "7051678e-5127-40a3-b060-15b29cf16b05",
   "metadata": {},
   "outputs": [
    {
     "name": "stdout",
     "output_type": "stream",
     "text": [
      "28 43 87 78\n"
     ]
    },
    {
     "data": {
      "text/plain": [
       "True"
      ]
     },
     "execution_count": 1,
     "metadata": {},
     "output_type": "execute_result"
    }
   ],
   "source": [
    "val1 = 28\n",
    "val2 = 43\n",
    "val3 = 87\n",
    "val4 = 78\n",
    "print(val1,val2,val3,val4)\n",
    "val2 <= val3"
   ]
  },
  {
   "cell_type": "code",
   "execution_count": 3,
   "id": "63a492fa-12fe-4c77-8852-7f9fe5861598",
   "metadata": {},
   "outputs": [
    {
     "data": {
      "text/plain": [
       "True"
      ]
     },
     "execution_count": 3,
     "metadata": {},
     "output_type": "execute_result"
    }
   ],
   "source": [
    "# compare or equal too\n",
    "\n",
    "val3 != val4"
   ]
  },
  {
   "cell_type": "code",
   "execution_count": 4,
   "id": "d8250a5e-0ffc-4608-ba1c-23b0bc5fb964",
   "metadata": {},
   "outputs": [
    {
     "data": {
      "text/plain": [
       "False"
      ]
     },
     "execution_count": 4,
     "metadata": {},
     "output_type": "execute_result"
    }
   ],
   "source": [
    "val1 == 87"
   ]
  },
  {
   "cell_type": "code",
   "execution_count": 15,
   "id": "00257b6b-23ea-4be0-8e7a-3e56f0dbfae1",
   "metadata": {},
   "outputs": [
    {
     "name": "stdout",
     "output_type": "stream",
     "text": [
      "True\n"
     ]
    }
   ],
   "source": [
    "#Comparision\n",
    "\n",
    "a=38\n",
    "b=54\n",
    "c=(a<=b)\n",
    "print(c)"
   ]
  },
  {
   "cell_type": "markdown",
   "id": "06fb4deb-a43c-44cf-b353-e19751bf63f5",
   "metadata": {},
   "source": [
    "# String"
   ]
  },
  {
   "cell_type": "code",
   "execution_count": 5,
   "id": "bd955363-fe4f-476c-bee0-52269c95132c",
   "metadata": {},
   "outputs": [
    {
     "name": "stdout",
     "output_type": "stream",
     "text": [
      "Hello, world!\n"
     ]
    }
   ],
   "source": [
    "ab = \"Hello, world!\"\n",
    "print(ab)"
   ]
  },
  {
   "cell_type": "code",
   "execution_count": 6,
   "id": "893f9a2a-dc69-4196-bace-185f7aa1a59e",
   "metadata": {},
   "outputs": [
    {
     "data": {
      "text/plain": [
       "'ARC Technology & Institution'"
      ]
     },
     "execution_count": 6,
     "metadata": {},
     "output_type": "execute_result"
    }
   ],
   "source": [
    "\"ARC Technology & Institution\""
   ]
  },
  {
   "cell_type": "code",
   "execution_count": 19,
   "id": "5eb144a2-6cf7-4508-b933-038d58cf2cae",
   "metadata": {},
   "outputs": [
    {
     "name": "stdout",
     "output_type": "stream",
     "text": [
      "kanchan\n"
     ]
    }
   ],
   "source": [
    "a=\"kanchan\"\n",
    "print(a)"
   ]
  },
  {
   "cell_type": "code",
   "execution_count": 11,
   "id": "1d4f3ec1-85ca-43cc-a356-419b5be941aa",
   "metadata": {},
   "outputs": [
    {
     "name": "stdout",
     "output_type": "stream",
     "text": [
      "sum of a&b 41\n"
     ]
    }
   ],
   "source": [
    "# Addition\n",
    "\n",
    "a=34\n",
    "b=7\n",
    "c=a+b\n",
    "print(\"sum of a&b\",c)"
   ]
  },
  {
   "cell_type": "markdown",
   "id": "e965686d-3dc7-48bf-b4ab-3ce22936d387",
   "metadata": {},
   "source": [
    "# Arithmatic OP"
   ]
  },
  {
   "cell_type": "code",
   "execution_count": 12,
   "id": "154cca67-4800-4d4b-8ac9-5574e9450802",
   "metadata": {},
   "outputs": [
    {
     "name": "stdout",
     "output_type": "stream",
     "text": [
      "sum 13\n",
      "sub -7\n",
      "mul 30\n",
      "div 0.3\n",
      "mod 3\n"
     ]
    }
   ],
   "source": [
    "k=3\n",
    "p=10\n",
    "print(\"sum\", k+p)\n",
    "print(\"sub\", k-p)\n",
    "print(\"mul\", k*p)\n",
    "print(\"div\", k/p)\n",
    "print(\"mod\", k%p)\n"
   ]
  },
  {
   "cell_type": "markdown",
   "id": "4de9e609-f324-4b5c-bcaf-58e7bc2cc0cf",
   "metadata": {},
   "source": [
    "# Area of Circle, Square, Triangle, Rectangle"
   ]
  },
  {
   "cell_type": "code",
   "execution_count": 14,
   "id": "46bd6b46-2407-4771-9785-ecb8e0d67d3b",
   "metadata": {},
   "outputs": [
    {
     "name": "stdout",
     "output_type": "stream",
     "text": [
      "area of circle 346.185\n",
      "area of Square 100\n",
      "area of Triangle 15.0\n",
      "area of Rectangle 1.7999999999999998\n"
     ]
    }
   ],
   "source": [
    "r=10.5\n",
    "s=10\n",
    "b=1.5\n",
    "h=20\n",
    "l=1.2\n",
    "Circle=3.14*r*r\n",
    "Square=s*s\n",
    "Triangle=0.5*b*h\n",
    "Rectangle=l*b\n",
    "print(\"area of circle\", Circle)\n",
    "print(\"area of Square\", Square)\n",
    "print(\"area of Triangle\", Triangle)\n",
    "print(\"area of Rectangle\", Rectangle)"
   ]
  },
  {
   "cell_type": "markdown",
   "id": "c4731c1e-ca86-41fa-a3bf-6e37e730a879",
   "metadata": {},
   "source": [
    "# Uppercase"
   ]
  },
  {
   "cell_type": "code",
   "execution_count": 20,
   "id": "bb6e7325-964c-47a3-b694-ae0f2cebf436",
   "metadata": {},
   "outputs": [
    {
     "name": "stdout",
     "output_type": "stream",
     "text": [
      "MICAL JACSON\n"
     ]
    }
   ],
   "source": [
    "k = \"mical jacson\"\n",
    "print(k.upper())"
   ]
  },
  {
   "cell_type": "markdown",
   "id": "da36b0b7-9419-4987-9026-07736535aac8",
   "metadata": {},
   "source": [
    "# lowercase"
   ]
  },
  {
   "cell_type": "code",
   "execution_count": 22,
   "id": "b956a4fe-6550-4701-b07d-1c32b6ac55df",
   "metadata": {},
   "outputs": [
    {
     "name": "stdout",
     "output_type": "stream",
     "text": [
      "technology is best when it brings people together\n"
     ]
    }
   ],
   "source": [
    "k = \"TECHNOLOGY IS BEST WHEN IT BRINGS PEOPLE TOGETHER\"\n",
    "print(k.lower())"
   ]
  },
  {
   "cell_type": "code",
   "execution_count": null,
   "id": "b036927b-76c7-4b37-993b-defa79590829",
   "metadata": {},
   "outputs": [],
   "source": []
  }
 ],
 "metadata": {
  "kernelspec": {
   "display_name": "Python 3 (ipykernel)",
   "language": "python",
   "name": "python3"
  },
  "language_info": {
   "codemirror_mode": {
    "name": "ipython",
    "version": 3
   },
   "file_extension": ".py",
   "mimetype": "text/x-python",
   "name": "python",
   "nbconvert_exporter": "python",
   "pygments_lexer": "ipython3",
   "version": "3.11.7"
  }
 },
 "nbformat": 4,
 "nbformat_minor": 5
}

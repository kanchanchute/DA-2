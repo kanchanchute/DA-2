{
 "cells": [
  {
   "cell_type": "markdown",
   "metadata": {},
   "source": [
    "# While loop\n",
    "\n",
    "* A while loop repeatedly execute a single statement or group of statements as long as the condition is true."
   ]
  },
  {
   "cell_type": "code",
   "execution_count": 3,
   "metadata": {},
   "outputs": [],
   "source": [
    "Mobile_lists = [ \n",
    "        {'Brand':'Oneplus', 'Model':'Oneplus_11', 'Year':2021},\n",
    "        {'Brand':'Apple', 'Model':'Iphone_14', 'Year':2022},\n",
    "        {'Brand':'Redmi', 'Model':'redmi_12', 'Year':2023},\n",
    "        {'Brand':'oppo', 'Model':'oppo_7', 'Year':2021},\n",
    "        {'Brand':'Vivo', 'Model':'Vivo_v20', 'Year':2021},\n",
    "\n",
    "]\n",
    "        "
   ]
  },
  {
   "cell_type": "code",
   "execution_count": 4,
   "metadata": {},
   "outputs": [
    {
     "name": "stdout",
     "output_type": "stream",
     "text": [
      "Oneplus_11 Released In 2021 Year\n",
      "Iphone_14 Released In 2022 Year\n",
      "redmi_12 Released In 2023 Year\n",
      "oppo_7 Released In 2021 Year\n",
      "Vivo_v20 Released In 2021 Year\n"
     ]
    }
   ],
   "source": [
    "#using while loop\n",
    "\n",
    "e = 0\n",
    "while e < len(Mobile_lists):\n",
    "    model = Mobile_lists[e]['Model']\n",
    "    year= Mobile_lists[e]['Year']\n",
    "    print(f'{model} Released In {year} Year')\n",
    "    e = e + 1"
   ]
  },
  {
   "cell_type": "markdown",
   "metadata": {},
   "source": [
    "# For loop\n",
    "\n",
    "* for loop used to iterate over a sequence (Such as a list, tuple, dictionary, string, range) and block of code for each item in the sequence."
   ]
  },
  {
   "cell_type": "code",
   "execution_count": 5,
   "metadata": {},
   "outputs": [
    {
     "name": "stdout",
     "output_type": "stream",
     "text": [
      "Oneplus its most demanding model is Oneplus_11\n",
      "Oneplus_11 is the highest selling model apart from other variants in 2021\n",
      "Apple its most demanding model is Iphone_14\n",
      "Iphone_14 is the highest selling model apart from other variants in 2022\n",
      "Redmi its most demanding model is redmi_12\n",
      "redmi_12 is the highest selling model apart from other variants in 2023\n",
      "oppo its most demanding model is oppo_7\n",
      "oppo_7 is the highest selling model apart from other variants in 2021\n",
      "Vivo its most demanding model is Vivo_v20\n",
      "Vivo_v20 is the highest selling model apart from other variants in 2021\n"
     ]
    }
   ],
   "source": [
    "for values in Mobile_lists:\n",
    "    brand = values['Brand']\n",
    "    model = values['Model']\n",
    "    year = values['Year']\n",
    "\n",
    "    print(f'{brand} its most demanding model is {model}')\n",
    "    \n",
    "    print(f'{model} is the highest selling model apart from other variants in {year}')"
   ]
  },
  {
   "cell_type": "markdown",
   "metadata": {},
   "source": [
    "# Filter and Lambda\n",
    "\n",
    "* Lambda - Lambda expressions allow to create anonymous functions. It can quickly make temporary functions without properly defining function using def."
   ]
  },
  {
   "cell_type": "code",
   "execution_count": 7,
   "metadata": {},
   "outputs": [
    {
     "name": "stdout",
     "output_type": "stream",
     "text": [
      "[{'Brand': 'oppo', 'Model': 'oppo_7', 'Year': 2021}]\n"
     ]
    }
   ],
   "source": [
    "filtered_list = list(filter(lambda a: a['Brand'] == 'oppo', Mobile_lists))\n",
    "\n",
    "print(filtered_list)"
   ]
  },
  {
   "cell_type": "markdown",
   "metadata": {},
   "source": [
    "# Map Function\n",
    "* The map function allow to apply a function to an iterable object and returns an iterator containing the results."
   ]
  },
  {
   "cell_type": "code",
   "execution_count": 8,
   "metadata": {},
   "outputs": [],
   "source": [
    "Brand_and_its_Founding_Countries = {\n",
    "        'Apple':'Unitade States',\n",
    "        'oppo':'china',\n",
    "        'Oneplus':'China',\n",
    "        'Vivo':'China',\n",
    "        'redmi':'China'\n",
    "    \n",
    "}"
   ]
  },
  {
   "cell_type": "code",
   "execution_count": 9,
   "metadata": {},
   "outputs": [],
   "source": [
    "def add_founding_countries(Founding_Countries):\n",
    "    brand = Founding_Countries['Brand']\n",
    "    if brand in Brand_and_its_Founding_Countries:\n",
    "        Founding_Countries['Founding_Countries'] = Brand_and_its_Founding_Countries[brand]\n",
    "        \n",
    "    return Founding_Countries"
   ]
  },
  {
   "cell_type": "code",
   "execution_count": 10,
   "metadata": {},
   "outputs": [
    {
     "name": "stdout",
     "output_type": "stream",
     "text": [
      "[{'Brand': 'Oneplus', 'Model': 'Oneplus_11', 'Year': 2021, 'Founding_Countries': 'China'}, {'Brand': 'Apple', 'Model': 'Iphone_14', 'Year': 2022, 'Founding_Countries': 'Unitade States'}, {'Brand': 'Redmi', 'Model': 'redmi_12', 'Year': 2023}, {'Brand': 'oppo', 'Model': 'oppo_7', 'Year': 2021, 'Founding_Countries': 'china'}, {'Brand': 'Vivo', 'Model': 'Vivo_v20', 'Year': 2021, 'Founding_Countries': 'China'}]\n"
     ]
    }
   ],
   "source": [
    "Mobile_lists = list(map(add_founding_countries, Mobile_lists))\n",
    "\n",
    "print(Mobile_lists)"
   ]
  },
  {
   "cell_type": "code",
   "execution_count": null,
   "metadata": {},
   "outputs": [],
   "source": []
  }
 ],
 "metadata": {
  "kernelspec": {
   "display_name": "base",
   "language": "python",
   "name": "python3"
  },
  "language_info": {
   "codemirror_mode": {
    "name": "ipython",
    "version": 3
   },
   "file_extension": ".py",
   "mimetype": "text/x-python",
   "name": "python",
   "nbconvert_exporter": "python",
   "pygments_lexer": "ipython3",
   "version": "3.11.7"
  }
 },
 "nbformat": 4,
 "nbformat_minor": 2
}

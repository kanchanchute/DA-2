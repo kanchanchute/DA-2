{
 "cells": [
  {
   "cell_type": "markdown",
   "id": "86b1124e-fd69-4a14-90d7-54a98fd03da7",
   "metadata": {},
   "source": [
    "# Join text\n",
    "\n",
    "  * join a multiple strings with help of function"
   ]
  },
  {
   "cell_type": "code",
   "execution_count": 8,
   "id": "50e837bf-139c-4eb6-8181-98b206be1e5a",
   "metadata": {},
   "outputs": [
    {
     "name": "stdout",
     "output_type": "stream",
     "text": [
      "hello_World\n"
     ]
    }
   ],
   "source": [
    "def join_text (*args,separator=''):\n",
    "    return separator.join(args)\n",
    "    \n",
    "t1 = \"hello\"\n",
    "t2 = \"World\"\n",
    "\n",
    "joined_text = join_text(t1,t2, separator='_')\n",
    "print(joined_text)"
   ]
  },
  {
   "cell_type": "markdown",
   "id": "38b6ccbc-42d1-4996-9e06-c19d5fa188c4",
   "metadata": {},
   "source": [
    "# Trim text"
   ]
  },
  {
   "cell_type": "code",
   "execution_count": 12,
   "id": "5f014569-4c33-4a7e-be6c-5c6203019dac",
   "metadata": {},
   "outputs": [
    {
     "name": "stdout",
     "output_type": "stream",
     "text": [
      "trimmed(both side): kanchan\n",
      "trimmed(left side): kanchan   \n",
      "trimmed(right side):    kanchan\n"
     ]
    }
   ],
   "source": [
    "def trim_text(text, side ='both'):\n",
    "    if side == 'left':\n",
    "        return text.lstrip()\n",
    "    elif side == 'right':\n",
    "        return text.rstrip()\n",
    "    elif side == 'both':\n",
    "        return text.strip()\n",
    "text = \"   kanchan   \"\n",
    "\n",
    "trimmed_text_both = trim_text(text)\n",
    "print('trimmed(both side):',trimmed_text_both)\n",
    "\n",
    "trimmed_text_left = trim_text(text, 'left')\n",
    "print('trimmed(left side):',trimmed_text_left)\n",
    "\n",
    "trimmed_text_right = trim_text(text, 'right')\n",
    "print('trimmed(right side):',trimmed_text_right)"
   ]
  },
  {
   "cell_type": "markdown",
   "id": "e068a34c-993c-420d-8b5f-794d8b68e010",
   "metadata": {},
   "source": [
    "# Substitude text"
   ]
  },
  {
   "cell_type": "code",
   "execution_count": 14,
   "id": "adf30523-48ef-4f79-bb5d-0cf68a30ba26",
   "metadata": {},
   "outputs": [
    {
     "name": "stdout",
     "output_type": "stream",
     "text": [
      "kanchan\n",
      "kanchan\n"
     ]
    }
   ],
   "source": [
    "def substitude_text(text,old,new):\n",
    "    return text.replace(old,new)\n",
    "real_text = \"kanchan\"\n",
    "old_text = \"payal\"\n",
    "new_text = \"kalyani\"\n",
    "\n",
    "substitude_text = substitude_text(real_text,old_text,new_text)\n",
    "print(real_text)\n",
    "print(substitude_text)"
   ]
  },
  {
   "cell_type": "markdown",
   "id": "b878fd53-30dd-499b-8827-a6f805a86776",
   "metadata": {},
   "source": [
    "# Cut text"
   ]
  },
  {
   "cell_type": "code",
   "execution_count": 19,
   "id": "7be1afa6-20b1-4047-84c1-f0fd876f4b21",
   "metadata": {},
   "outputs": [
    {
     "name": "stdout",
     "output_type": "stream",
     "text": [
      "kanchan\n",
      "\n"
     ]
    }
   ],
   "source": [
    "def cut_text(text,start,end):\n",
    "    return text[start:end]\n",
    "    \n",
    "original_text = \"kanchan\"\n",
    "start_position = 15\n",
    "end_position = 30\n",
    "\n",
    "cut_position = cut_text(original_text,start_position,end_position)\n",
    "\n",
    "print(original_text)\n",
    "print(cut_position)"
   ]
  },
  {
   "cell_type": "code",
   "execution_count": null,
   "id": "0b2bb3b5-24a9-4fb2-9b89-6adf397f29c8",
   "metadata": {},
   "outputs": [],
   "source": []
  }
 ],
 "metadata": {
  "kernelspec": {
   "display_name": "Python 3 (ipykernel)",
   "language": "python",
   "name": "python3"
  },
  "language_info": {
   "codemirror_mode": {
    "name": "ipython",
    "version": 3
   },
   "file_extension": ".py",
   "mimetype": "text/x-python",
   "name": "python",
   "nbconvert_exporter": "python",
   "pygments_lexer": "ipython3",
   "version": "3.11.7"
  }
 },
 "nbformat": 4,
 "nbformat_minor": 5
}

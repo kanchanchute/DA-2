{
 "cells": [
  {
   "cell_type": "markdown",
   "id": "1d47558d-f614-42e4-88c6-cacc4e9d5a6c",
   "metadata": {},
   "source": [
    "# Set\n",
    "\n",
    "  * Set are unordered collection of unique elements. they are similar to lists in terms of storing elements,but unlike lists, sets cannot contain duplicate entries."
   ]
  },
  {
   "cell_type": "code",
   "execution_count": 2,
   "id": "8ad7529a-f704-42e0-b6e2-4e4f5dfadbe7",
   "metadata": {},
   "outputs": [
    {
     "name": "stdout",
     "output_type": "stream",
     "text": [
      "<class 'set'>\n",
      "{65, 98, 23, 7, 56, 9, 45}\n"
     ]
    }
   ],
   "source": [
    "s1 = {45,65,98,56,7,9,23}\n",
    "print(type(s1))\n",
    "print(s1)"
   ]
  },
  {
   "cell_type": "markdown",
   "id": "9c775359-ec83-4fa0-9984-f81c6174cc50",
   "metadata": {},
   "source": [
    "# Add\n",
    "\n",
    "  * The Python set add() method adds a given element to a set if the element is not present in the set in Python."
   ]
  },
  {
   "cell_type": "code",
   "execution_count": 4,
   "id": "9ec3c1b2-1153-4865-b290-8644f1143c0f",
   "metadata": {},
   "outputs": [
    {
     "name": "stdout",
     "output_type": "stream",
     "text": [
      "{'556', 65, 98, 23, 7, 56, 9, 45}\n"
     ]
    }
   ],
   "source": [
    "s2 = {45,65,98,56,7,9,23}\n",
    "s2.add('556')\n",
    "print(s2)"
   ]
  },
  {
   "cell_type": "code",
   "execution_count": 5,
   "id": "873ddfe9-a54b-48cd-ab29-44bf4c00ba82",
   "metadata": {},
   "outputs": [
    {
     "name": "stdout",
     "output_type": "stream",
     "text": [
      "Letters are: {'k'}\n"
     ]
    }
   ],
   "source": [
    "# Add Element to an Empty set\n",
    "\n",
    "set = set()\n",
    "set.add('k')\n",
    "print(\"Letters are:\", set)\n"
   ]
  },
  {
   "cell_type": "markdown",
   "id": "2813a54d-37c7-40e0-b990-d1009a991898",
   "metadata": {},
   "source": [
    "# Clear()\n",
    "\n",
    "  * Python Set clear() method removes all elements from the set."
   ]
  },
  {
   "cell_type": "code",
   "execution_count": 7,
   "id": "6dca35dc-fafd-4588-9364-4b65f48e6a84",
   "metadata": {},
   "outputs": [
    {
     "data": {
      "text/plain": [
       "set()"
      ]
     },
     "execution_count": 7,
     "metadata": {},
     "output_type": "execute_result"
    }
   ],
   "source": [
    "set = {1, 2, 3, 4, 5, 6}\n",
    "set.clear()\n",
    "set"
   ]
  },
  {
   "cell_type": "code",
   "execution_count": 9,
   "id": "291142cf-3c3b-4fc5-af2e-b4a5dff539ce",
   "metadata": {},
   "outputs": [
    {
     "data": {
      "text/plain": [
       "[]"
      ]
     },
     "execution_count": 9,
     "metadata": {},
     "output_type": "execute_result"
    }
   ],
   "source": [
    "s2 =[5,77,98,99,656,56,76]\n",
    "s2.clear()\n",
    "s2"
   ]
  },
  {
   "cell_type": "markdown",
   "id": "77e3c808-f2d1-4dcf-b894-07f9d5c8317d",
   "metadata": {},
   "source": [
    "# Copy\n",
    "\n",
    "  * The copy() method returns a shallow copy of the set in python. If we use “=” to copy a set to another set, when we modify in the copied set, the changes are also reflected in the original set."
   ]
  },
  {
   "cell_type": "code",
   "execution_count": 10,
   "id": "ce8fe6a9-4d9b-4290-a2db-cf825d865721",
   "metadata": {},
   "outputs": [
    {
     "data": {
      "text/plain": [
       "[5, 77, 98, 99, 656, 56, 76]"
      ]
     },
     "execution_count": 10,
     "metadata": {},
     "output_type": "execute_result"
    }
   ],
   "source": [
    "s3 =[5,77,98,99,656,56,76]\n",
    "s3.copy()\n",
    "s3"
   ]
  },
  {
   "cell_type": "code",
   "execution_count": 14,
   "id": "f935ba81-b1c5-4dc5-9341-bff582786922",
   "metadata": {},
   "outputs": [
    {
     "data": {
      "text/plain": [
       "{'e', 'g', 'k', 's'}"
      ]
     },
     "execution_count": 14,
     "metadata": {},
     "output_type": "execute_result"
    }
   ],
   "source": [
    "first = {'g', 'e', 'e', 'k', 's'}\n",
    "first.copy()\n",
    "first\n"
   ]
  },
  {
   "cell_type": "markdown",
   "id": "9072ebc1-8b6d-453e-bc8e-b3382e22301a",
   "metadata": {},
   "source": [
    "# Difference\n",
    "\n",
    "  * The difference between the two sets in Python is equal to the difference between the number of elements in two sets. The function difference() returns a set that is the difference between two sets. "
   ]
  },
  {
   "cell_type": "code",
   "execution_count": 17,
   "id": "42b7df8b-7daf-4b4e-814b-5503941577b6",
   "metadata": {},
   "outputs": [],
   "source": [
    "setA = {10, 20, 30, 40, 80}\n",
    "setB = {100, 30, 80, 40, 60}\n",
    "\n"
   ]
  },
  {
   "cell_type": "code",
   "execution_count": 18,
   "id": "45ba1970-a2d8-4b9c-b20c-ad0242d812ac",
   "metadata": {},
   "outputs": [
    {
     "data": {
      "text/plain": [
       "{10, 20}"
      ]
     },
     "execution_count": 18,
     "metadata": {},
     "output_type": "execute_result"
    }
   ],
   "source": [
    "diff_set=setA.difference(setB)\n",
    "diff_set"
   ]
  },
  {
   "cell_type": "markdown",
   "id": "9dc3b89d-c575-4119-8b36-a0eb590e1db4",
   "metadata": {},
   "source": [
    "# Difference_Update()\n",
    "\n",
    "  *The difference_update() method helps in an in-place way of differentiating the set. The previously discussed set difference() helps to find out the difference between two sets and returns a new set with the difference value, but the difference_update() updates the existing caller set."
   ]
  },
  {
   "cell_type": "code",
   "execution_count": 19,
   "id": "62092110-f67e-46f3-9e3e-5e66b04ba012",
   "metadata": {},
   "outputs": [
    {
     "name": "stdout",
     "output_type": "stream",
     "text": [
      "{20, 10}\n"
     ]
    }
   ],
   "source": [
    "A1 = {10, 20, 30, 40, 80}\n",
    "B2 = {100, 30, 80, 40, 60}\n",
    " \n",
    "\n",
    "A.difference_update(B)\n",
    " \n",
    "\n",
    "print (A)"
   ]
  },
  {
   "cell_type": "markdown",
   "id": "0ce56685-de57-457e-bf0b-3fc9cf4aed53",
   "metadata": {},
   "source": [
    "# Frozon()\n",
    "\n",
    "  * Python Method creates an immutable Set object from an iterable. It is a built-in Python function. As it is a set object, therefore, we cannot have duplicate values in the frozenset."
   ]
  },
  {
   "cell_type": "code",
   "execution_count": 21,
   "id": "d3667654-387c-4bc9-b9bc-03fd5ad96ed7",
   "metadata": {},
   "outputs": [
    {
     "name": "stdout",
     "output_type": "stream",
     "text": [
      "True\n",
      "False\n"
     ]
    }
   ],
   "source": [
    "animals = frozenset([\"cat\", \"dog\", \"lion\"])\n",
    "print(\"cat\" in animals) \n",
    "print(\"elephant\" in animals)"
   ]
  },
  {
   "cell_type": "markdown",
   "id": "aa4b9d66-baba-4562-8b4f-8cfd25a444ff",
   "metadata": {},
   "source": [
    "# Intersection\n",
    "\n",
    "  * Python set intersection() method returns a new set with an element that is common to all set"
   ]
  },
  {
   "cell_type": "code",
   "execution_count": 22,
   "id": "566bd70a-d62e-4110-a398-e7bd2d3ad9f1",
   "metadata": {},
   "outputs": [
    {
     "name": "stdout",
     "output_type": "stream",
     "text": [
      "{2, 3}\n"
     ]
    }
   ],
   "source": [
    "s1 = {1, 2, 3}\n",
    "s2 = {2, 3}\n",
    "print(s1.intersection(s2))"
   ]
  },
  {
   "cell_type": "markdown",
   "id": "e1f7c965-6c5d-4849-ad6e-a643c847903b",
   "metadata": {},
   "source": [
    "# ISDISJOINT()\n",
    "\n",
    "  * Python set isdisjoint() function check whether the two sets are disjoint or not, if it is disjoint then it returns True otherwise it will return False. Two sets are said to be disjoint when their intersection is null. "
   ]
  },
  {
   "cell_type": "code",
   "execution_count": 23,
   "id": "4690744f-460f-419b-b79d-5e1e5a0b789f",
   "metadata": {},
   "outputs": [
    {
     "name": "stdout",
     "output_type": "stream",
     "text": [
      "True\n"
     ]
    }
   ],
   "source": [
    "s1 = {1, 2, 3}\n",
    "s2 = {4, 5, 6}\n",
    "print(s1.isdisjoint(s2))"
   ]
  },
  {
   "cell_type": "markdown",
   "id": "8c7ab75a-60a5-4859-bc4b-e1ba1519a019",
   "metadata": {},
   "source": [
    "# Issubset\n",
    "\n",
    "  * Python set issubset() method returns True if all elements of a set A are present in another set B which is passed as an argument, and returns False if all elements are not present in Python."
   ]
  },
  {
   "cell_type": "code",
   "execution_count": 24,
   "id": "572abd1e-6251-44b0-8137-d0cd2c6d3df6",
   "metadata": {},
   "outputs": [
    {
     "name": "stdout",
     "output_type": "stream",
     "text": [
      "False\n"
     ]
    }
   ],
   "source": [
    "s1 = {1, 2, 3, 4, 5}\n",
    "s2 = {4, 5, 67, 5}\n",
    "print(s2.issubset(s1))"
   ]
  },
  {
   "cell_type": "markdown",
   "id": "6471594c-fee6-4385-8ebc-da0d2191939f",
   "metadata": {},
   "source": [
    "# Issuperset\n",
    "\n",
    "  * Python Set issuperset() method returns True if all elements of a set B are in set A. Then Set A is the superset of set B."
   ]
  },
  {
   "cell_type": "code",
   "execution_count": 25,
   "id": "6982fb8a-0e64-4a4f-bca3-706111aeb1c3",
   "metadata": {},
   "outputs": [
    {
     "name": "stdout",
     "output_type": "stream",
     "text": [
      "A.issuperset(B) :  False\n",
      "B.issuperset(A) :  True\n"
     ]
    }
   ],
   "source": [
    "A = {4, 1, 3, 5}\n",
    "B = {6, 0, 4, 1, 5, 0, 3, 5}\n",
    " \n",
    "print(\"A.issuperset(B) : \", A.issuperset(B))\n",
    "print(\"B.issuperset(A) : \", B.issuperset(A))"
   ]
  },
  {
   "cell_type": "markdown",
   "id": "be57b393-132c-40f8-83c7-6d25501695e1",
   "metadata": {},
   "source": [
    "# pop()\n",
    "\n",
    "  * Python set pop() removes any random element from the set and returns the removed element. In this article, we will see about the Python set pop() method."
   ]
  },
  {
   "cell_type": "code",
   "execution_count": 26,
   "id": "e565db8b-cb07-4d4b-bfcf-a5dd6b0bbc33",
   "metadata": {},
   "outputs": [
    {
     "name": "stdout",
     "output_type": "stream",
     "text": [
      "{9, 1}\n"
     ]
    }
   ],
   "source": [
    "s1 = {9, 1, 0}\n",
    "s1.pop()\n",
    "print(s1)"
   ]
  },
  {
   "cell_type": "code",
   "execution_count": 27,
   "id": "176fc6aa-5f3f-45ba-9e44-23f78fd8af52",
   "metadata": {},
   "outputs": [
    {
     "name": "stdout",
     "output_type": "stream",
     "text": [
      "{34, 99, 90, 78}\n"
     ]
    }
   ],
   "source": [
    "s2 = {65,78,99,34,90}\n",
    "s2.pop()\n",
    "print(s2)"
   ]
  },
  {
   "cell_type": "markdown",
   "id": "4b553a34-6f97-424b-9945-3d6644ddf583",
   "metadata": {},
   "source": [
    "# Symmetric_Difference\n",
    "\n",
    "  * The symmetric difference of two sets set1 and set2 is the set of elements which are in either of the sets set1 or set2 but not in both."
   ]
  },
  {
   "cell_type": "code",
   "execution_count": 29,
   "id": "7a891fd4-694b-4f52-a72d-5026adb6a872",
   "metadata": {},
   "outputs": [
    {
     "data": {
      "text/plain": [
       "{1, 29, 87}"
      ]
     },
     "execution_count": 29,
     "metadata": {},
     "output_type": "execute_result"
    }
   ],
   "source": [
    "list1 = {1, 2, 3, 5, 7, 4}\n",
    "list2 = {2, 3, 4, 5, 7, 29,87}\n",
    "list1.symmetric_difference(list2)"
   ]
  },
  {
   "cell_type": "markdown",
   "id": "7d207bce-8b05-4c7e-8503-eae57b0a75c4",
   "metadata": {},
   "source": [
    "# Symmetric_difference_update\n",
    "\n",
    "  * The symmetric difference between the two sets is the set of elements that are in either of the sets but not in both of them."
   ]
  },
  {
   "cell_type": "code",
   "execution_count": 36,
   "id": "ed591cdd-b4c7-4561-9c21-f93d853a9fa5",
   "metadata": {},
   "outputs": [],
   "source": [
    "A = {'p', 'a', 'w', 'a', 'n'}\n",
    "B = {'r', 'a', 'o', 'n', 'e'}\n",
    "A.symmetric_difference_update(B)\n",
    " "
   ]
  },
  {
   "cell_type": "markdown",
   "id": "d68ac1d4-6e71-4483-b6dc-13e4d3f65219",
   "metadata": {},
   "source": [
    "# Union()\n",
    "\n",
    "  * Python set Union() Method returns a new set that contains all the items from the original set."
   ]
  },
  {
   "cell_type": "code",
   "execution_count": 38,
   "id": "deea9c68-54aa-4715-b41f-9bc0efe75085",
   "metadata": {},
   "outputs": [
    {
     "data": {
      "text/plain": [
       "{2, 4, 5, 6, 7, 8}"
      ]
     },
     "execution_count": 38,
     "metadata": {},
     "output_type": "execute_result"
    }
   ],
   "source": [
    "A = {2, 4, 5, 6} \n",
    "B = {4, 6, 7, 8}\n",
    " \n",
    "A.union(B)"
   ]
  },
  {
   "cell_type": "markdown",
   "id": "5fc11eab-7478-4619-9499-5a2a3b7ee5c7",
   "metadata": {},
   "source": [
    "# Update\n",
    "\n",
    "  * Python update() function in set adds elements from a set (passed as an argument) to the set. If the element is present in both of the sets then the element comes only one time in the updated set."
   ]
  },
  {
   "cell_type": "code",
   "execution_count": 40,
   "id": "ec3a594a-c049-48c2-90e8-90d560a67b2e",
   "metadata": {},
   "outputs": [
    {
     "data": {
      "text/plain": [
       "{1, 2, 3, 5, 6, 7}"
      ]
     },
     "execution_count": 40,
     "metadata": {},
     "output_type": "execute_result"
    }
   ],
   "source": [
    "list1 = {1, 2, 3}\n",
    "list2 = {5, 6, 7}\n",
    "\n",
    "list1.update(list2)\n",
    "list1"
   ]
  },
  {
   "cell_type": "markdown",
   "id": "87559518-41bb-4c76-a05a-a16f073647c6",
   "metadata": {},
   "source": [
    "# Intersection_update()"
   ]
  },
  {
   "cell_type": "code",
   "execution_count": 42,
   "id": "666f04c1-1183-49e9-b9d9-e12fc20fd635",
   "metadata": {},
   "outputs": [
    {
     "data": {
      "text/plain": [
       "{8}"
      ]
     },
     "execution_count": 42,
     "metadata": {},
     "output_type": "execute_result"
    }
   ],
   "source": [
    "s1 = {3,5,8}\n",
    "s2 = {6,8,6}\n",
    "s1.intersection_update(s2)\n",
    "s1"
   ]
  },
  {
   "cell_type": "code",
   "execution_count": null,
   "id": "37468b7a-2df1-47f4-8caf-f426b86a2977",
   "metadata": {},
   "outputs": [],
   "source": []
  }
 ],
 "metadata": {
  "kernelspec": {
   "display_name": "Python 3 (ipykernel)",
   "language": "python",
   "name": "python3"
  },
  "language_info": {
   "codemirror_mode": {
    "name": "ipython",
    "version": 3
   },
   "file_extension": ".py",
   "mimetype": "text/x-python",
   "name": "python",
   "nbconvert_exporter": "python",
   "pygments_lexer": "ipython3",
   "version": "3.11.7"
  }
 },
 "nbformat": 4,
 "nbformat_minor": 5
}

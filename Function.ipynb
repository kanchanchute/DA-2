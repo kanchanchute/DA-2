{
 "cells": [
  {
   "cell_type": "markdown",
   "id": "6dddf600-5f92-436f-9f59-0750416fb215",
   "metadata": {},
   "source": [
    "# Function\n",
    "\n",
    "  * A function is a block of code which only runs when it is called You can pass data, known as parameters, into a function.\n",
    "  * A function can return data as a result."
   ]
  },
  {
   "cell_type": "code",
   "execution_count": 7,
   "id": "506ebcec-28d4-4974-85b8-51c5ace61f71",
   "metadata": {},
   "outputs": [
    {
     "name": "stdout",
     "output_type": "stream",
     "text": [
      "Hubnex\n"
     ]
    }
   ],
   "source": [
    "def my_function():\n",
    "  print(\"Hubnex\")\n",
    "my_function()"
   ]
  },
  {
   "cell_type": "code",
   "execution_count": null,
   "id": "213eae29-9f89-4f96-960e-e22737de5fb1",
   "metadata": {},
   "outputs": [],
   "source": [
    "def my_function(s1,s2,s3)\n",
    "joint_name = k'"
   ]
  },
  {
   "cell_type": "code",
   "execution_count": 9,
   "id": "5272d4ae-f5e9-400f-b0c6-9eae4841faec",
   "metadata": {},
   "outputs": [
    {
     "name": "stdout",
     "output_type": "stream",
     "text": [
      "I am from uk\n",
      "I am from turkey\n",
      "I am from India\n",
      "I am from us\n"
     ]
    }
   ],
   "source": [
    "def my_function(country = \"India\"):\n",
    "  print(\"I am from \" + country)\n",
    "\n",
    "my_function(\"uk\")\n",
    "my_function(\"turkey\")\n",
    "my_function()\n",
    "my_function(\"us\")\n"
   ]
  },
  {
   "cell_type": "code",
   "execution_count": 15,
   "id": "980644cd-f011-44e5-91b4-7075bb4b5548",
   "metadata": {},
   "outputs": [
    {
     "name": "stdout",
     "output_type": "stream",
     "text": [
      "apple\n",
      "banana\n",
      "cherry\n"
     ]
    }
   ],
   "source": [
    "def my_function(food):\n",
    "  for x in food:\n",
    "    print(x)\n",
    "\n",
    "fruits = [\"apple\", \"banana\", \"cherry\"]\n",
    "\n",
    "my_function(fruits)\n",
    "\n",
    "\n"
   ]
  },
  {
   "cell_type": "code",
   "execution_count": 17,
   "id": "825d4baf-7f4c-46b9-b012-bd9cb0e87d72",
   "metadata": {},
   "outputs": [
    {
     "name": "stdout",
     "output_type": "stream",
     "text": [
      "Hello kanchan\n",
      "Hello payal\n",
      "Hello montu\n"
     ]
    }
   ],
   "source": [
    "def greetings(name):\n",
    "   \"This is docstring of greetings function\"\n",
    "   print (\"Hello {}\".format(name))\n",
    "   return\n",
    "   \n",
    "greetings(\"kanchan\")\n",
    "greetings(\"payal\")\n",
    "greetings(\"montu\")"
   ]
  },
  {
   "cell_type": "code",
   "execution_count": null,
   "id": "3677d644-d447-4949-b9fb-6c8115dd736d",
   "metadata": {},
   "outputs": [],
   "source": []
  }
 ],
 "metadata": {
  "kernelspec": {
   "display_name": "Python 3 (ipykernel)",
   "language": "python",
   "name": "python3"
  },
  "language_info": {
   "codemirror_mode": {
    "name": "ipython",
    "version": 3
   },
   "file_extension": ".py",
   "mimetype": "text/x-python",
   "name": "python",
   "nbconvert_exporter": "python",
   "pygments_lexer": "ipython3",
   "version": "3.11.7"
  }
 },
 "nbformat": 4,
 "nbformat_minor": 5
}

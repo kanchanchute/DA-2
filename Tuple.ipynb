{
 "cells": [
  {
   "cell_type": "markdown",
   "id": "90f9c06a-32e4-4e49-bca1-a013fbd4e094",
   "metadata": {},
   "source": [
    "# Tuple\n",
    "\n",
    "* The tuple() Function can use the tuple() constructor or function to create a tuple. It basically performs two functions as follows:\n",
    "\n",
    "  * Creating an empty tuple if we give no arguments.\n",
    "  * Creating a tuple with elements if we pass the arguments."
   ]
  },
  {
   "cell_type": "code",
   "execution_count": 1,
   "id": "5998ffd1-ece9-4a8a-8d00-297ae7e9b97f",
   "metadata": {},
   "outputs": [
    {
     "name": "stdout",
     "output_type": "stream",
     "text": [
      "(1, 2, 3, 4, 5)\n"
     ]
    }
   ],
   "source": [
    "a= [1, 2, 3, 4, 5]\n",
    "b = tuple(a)\n",
    "print(b)"
   ]
  },
  {
   "cell_type": "markdown",
   "id": "1a1dccc6-3f8c-4ff6-afd5-1c37d7561c65",
   "metadata": {},
   "source": [
    "# Len\n",
    "\n",
    "* The len() function is used to return the number of elements in a tuple. It takes a tuple as an argument and returns an integer value representing the length of the tuple."
   ]
  },
  {
   "cell_type": "code",
   "execution_count": 2,
   "id": "2308e12b-4767-4690-9101-0dc15431b55b",
   "metadata": {},
   "outputs": [
    {
     "name": "stdout",
     "output_type": "stream",
     "text": [
      "5\n"
     ]
    }
   ],
   "source": [
    "fruit = (\"apple\", \"orange\", \"mango\", \"kiwi\", \"graps\")\n",
    "print(len(fruit))\n",
    "\n"
   ]
  },
  {
   "cell_type": "code",
   "execution_count": 7,
   "id": "b03cce31-9950-4ffc-af48-18c2efc940e2",
   "metadata": {},
   "outputs": [
    {
     "name": "stdout",
     "output_type": "stream",
     "text": [
      "8\n"
     ]
    }
   ],
   "source": [
    "my_tuple = (1, 2, 3, 4, 5, 6, 7, 8)\n",
    "print(len(my_tuple))"
   ]
  },
  {
   "cell_type": "markdown",
   "id": "07984c6a-422f-4eda-98e6-9a7dfcede69a",
   "metadata": {},
   "source": [
    "# Max\n",
    "\n",
    "* The max() function is used to return the maximum value in a tuple. It takes a tuple as an argument and returns the maximum value in the tuple."
   ]
  },
  {
   "cell_type": "code",
   "execution_count": 8,
   "id": "0951f685-5ddf-4f01-860c-61bd77a293ee",
   "metadata": {},
   "outputs": [
    {
     "name": "stdout",
     "output_type": "stream",
     "text": [
      "989\n"
     ]
    }
   ],
   "source": [
    "number = (565, 86, 667, 598, 989)\n",
    "print(max(number))"
   ]
  },
  {
   "cell_type": "markdown",
   "id": "1c28ecc0-ec0b-4b0d-961f-aa687650cc83",
   "metadata": {},
   "source": [
    "# Min\n",
    "\n",
    "* The min() function is used to return the minimum value in a tuple. It takes a tuple as an argument and returns the minimum value in the tuple."
   ]
  },
  {
   "cell_type": "code",
   "execution_count": 11,
   "id": "7e66eb08-b71f-4e43-ad51-c0ccb39e0988",
   "metadata": {},
   "outputs": [
    {
     "name": "stdout",
     "output_type": "stream",
     "text": [
      "5\n"
     ]
    }
   ],
   "source": [
    "val1 = (5, 10, 15, 20, 25,)\n",
    "print(min(val1))"
   ]
  },
  {
   "cell_type": "markdown",
   "id": "6f839ec5-33a6-4776-b22d-6a23314bc602",
   "metadata": {},
   "source": [
    "# Sum\n",
    "\n",
    "* The sum() function is used to return the sum of all elements in a tuple. It takes a tuple as an argument and returns the sum of all the elements in the tuple."
   ]
  },
  {
   "cell_type": "code",
   "execution_count": 13,
   "id": "9a41f602-ed06-4399-8a42-b254d7554fec",
   "metadata": {},
   "outputs": [
    {
     "name": "stdout",
     "output_type": "stream",
     "text": [
      "613\n"
     ]
    }
   ],
   "source": [
    "abc = (1, 20, 73, 84, 435)\n",
    "print(sum(abc))"
   ]
  },
  {
   "cell_type": "markdown",
   "id": "acbc6b9d-116e-4992-8ad1-a909da72c688",
   "metadata": {},
   "source": [
    "# Index\n",
    "\n",
    "  * index() function it returns the index of the first occurrence of a specified element in a tuple.\n",
    "\n"
   ]
  },
  {
   "cell_type": "code",
   "execution_count": 14,
   "id": "7521e33a-8f4a-4bbd-9125-3e13b6828445",
   "metadata": {},
   "outputs": [
    {
     "name": "stdout",
     "output_type": "stream",
     "text": [
      "2\n"
     ]
    }
   ],
   "source": [
    "fruits = ('apple', 'banana', 'orange', 'mango', 'banana')\n",
    "index = fruits.index('orange')\n",
    "print(index)"
   ]
  },
  {
   "cell_type": "markdown",
   "id": "6eaf3c69-ce54-4bd0-a43e-8990de0d2a71",
   "metadata": {},
   "source": [
    "# Count\n",
    "\n",
    "  * count() function it returns the number of times a specified element appears in a tuple."
   ]
  },
  {
   "cell_type": "code",
   "execution_count": 15,
   "id": "4d4ec0ed-b8b2-46f2-8a2f-a85a56333420",
   "metadata": {},
   "outputs": [
    {
     "name": "stdout",
     "output_type": "stream",
     "text": [
      "3\n"
     ]
    }
   ],
   "source": [
    "my_tuple = (1, 2, 3, 4, 3, 5, 3)\n",
    "count = my_tuple.count(3)\n",
    "print(count)"
   ]
  },
  {
   "cell_type": "markdown",
   "id": "55bb2b50-d37c-43c3-9f8d-9370281e2f54",
   "metadata": {},
   "source": [
    "# CONCATENATION\n",
    "\n",
    "\n",
    "  * The 'CONCATENATION' are concatenate two tuples using the + operator."
   ]
  },
  {
   "cell_type": "code",
   "execution_count": 16,
   "id": "541d60ea-2208-41c5-bf78-5db09ff5417b",
   "metadata": {},
   "outputs": [
    {
     "name": "stdout",
     "output_type": "stream",
     "text": [
      "(1, 2, 3, 4, 5, 6, 7, 8, 9, 10, 11, 127, 137, 14, 775, 916, 17, 18, 989, 200)\n"
     ]
    }
   ],
   "source": [
    "val1 = (1, 2, 3,4,5,6,7,8,9)\n",
    "\n",
    "val2 = (10,11,127,137,14,775,916,17,18,989,200)\n",
    "\n",
    "concatenated_tuple = val1 + val2\n",
    "\n",
    "print(concatenated_tuple)  "
   ]
  },
  {
   "cell_type": "markdown",
   "id": "54e81855-3e1c-4c9a-9e00-d6a1c4e055c1",
   "metadata": {},
   "source": [
    "# REPETITION\n",
    "\n",
    "\n",
    "  * The 'REPETITION' is repeat a tuple for a given number of times using the * operator."
   ]
  },
  {
   "cell_type": "code",
   "execution_count": 17,
   "id": "68087cbe-c06a-41a4-8fd5-457ab9336bf0",
   "metadata": {},
   "outputs": [
    {
     "data": {
      "text/plain": [
       "(110, 548, 444, 877, 905)"
      ]
     },
     "execution_count": 17,
     "metadata": {},
     "output_type": "execute_result"
    }
   ],
   "source": [
    "tuple = (110, 548, 444, 877, 905)\n",
    "tuple"
   ]
  },
  {
   "cell_type": "code",
   "execution_count": 18,
   "id": "9615e990-c027-4b06-adf7-6340481293a1",
   "metadata": {},
   "outputs": [
    {
     "name": "stdout",
     "output_type": "stream",
     "text": [
      "(110, 548, 444, 877, 905, 110, 548, 444, 877, 905, 110, 548, 444, 877, 905)\n"
     ]
    }
   ],
   "source": [
    "R_tuple = tuple * 3\n",
    "print(R_tuple)"
   ]
  },
  {
   "cell_type": "code",
   "execution_count": null,
   "id": "0aa8e869-dd1c-42a4-900b-05613bfcc4db",
   "metadata": {},
   "outputs": [],
   "source": []
  }
 ],
 "metadata": {
  "kernelspec": {
   "display_name": "Python 3 (ipykernel)",
   "language": "python",
   "name": "python3"
  },
  "language_info": {
   "codemirror_mode": {
    "name": "ipython",
    "version": 3
   },
   "file_extension": ".py",
   "mimetype": "text/x-python",
   "name": "python",
   "nbconvert_exporter": "python",
   "pygments_lexer": "ipython3",
   "version": "3.11.7"
  }
 },
 "nbformat": 4,
 "nbformat_minor": 5
}
